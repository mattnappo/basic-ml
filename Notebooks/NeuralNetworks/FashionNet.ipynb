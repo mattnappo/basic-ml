{
 "cells": [
  {
   "cell_type": "markdown",
   "metadata": {},
   "source": [
    "# Neural Networks!\n",
    "In this example, we are going to make a basic neural network that trains the MNIST fashion dataset."
   ]
  },
  {
   "cell_type": "markdown",
   "metadata": {},
   "source": [
    "## Setup\n",
    "There are two new imports here - Tensorflow and Keras.\n",
    "\n",
    "Tensorflow - A Python library that helps with the development of machine learning algorithms.\n",
    "\n",
    "Keras - A high-level neural networks API for Python"
   ]
  },
  {
   "cell_type": "code",
   "execution_count": 34,
   "metadata": {},
   "outputs": [],
   "source": [
    "import tensorflow as tf\n",
    "from tensorflow import keras as kr\n",
    "import numpy as np\n",
    "import matplotlib.pyplot as plt"
   ]
  },
  {
   "cell_type": "markdown",
   "metadata": {},
   "source": [
    "These are the type of clothing that our model will predict."
   ]
  },
  {
   "cell_type": "code",
   "execution_count": 35,
   "metadata": {},
   "outputs": [],
   "source": [
    "labels = [\n",
    "    'T-shirt/top',\n",
    "    'Trouser',\n",
    "    'Pullover',\n",
    "    'Dress',\n",
    "    'Coat',\n",
    "    'Sandal',\n",
    "    'Shirt',\n",
    "    'Sneaker',\n",
    "    'Bag',\n",
    "    'Ankle boot'\n",
    "]"
   ]
  },
  {
   "cell_type": "markdown",
   "metadata": {},
   "source": [
    "## Loading the dataset\n",
    "Instead of using Pandas to load a dataset and read a CSV file, Keras has a feature allowing the programmer to automatically download and use datasets. In this example, we are going to use Keras' fashion dataset (from MNIST)."
   ]
  },
  {
   "cell_type": "code",
   "execution_count": 36,
   "metadata": {},
   "outputs": [],
   "source": [
    "mnist = kr.datasets.fashion_mnist\n",
    "(train_images, train_labels), (test_images, test_labels) = mnist.load_data()"
   ]
  },
  {
   "cell_type": "markdown",
   "metadata": {},
   "source": [
    "## Getting the data ready\n",
    "Each node in the neural network has a bias, which must be a number from 0 to 1. Right now, each pixel has a grayscale weight from 0 to 255. We need to convert the grayscale data from (0, 255) to (0, 1). We can do this by dividing by 255."
   ]
  },
  {
   "cell_type": "code",
   "execution_count": 37,
   "metadata": {},
   "outputs": [],
   "source": [
    "train_images = train_images / 255\n",
    "test_images  = test_images  / 255"
   ]
  },
  {
   "cell_type": "markdown",
   "metadata": {},
   "source": [
    "## The model\n",
    "Now it is time to create the neural network. We will use Keras' Sequential network. `layers.Dense()` creates the different layers of the network, defining the shape of the network. In this example, our neural network has 3 layers:\n",
    "\n",
    "the input layer (28x28 nodes)\n",
    "\n",
    "1 hidden layer (128 nodes)\n",
    "\n",
    "the output layer (10 nodes)\n",
    "\n",
    "`tf.nn.relu` and `tf.nn.softmax` are differnt activation functions."
   ]
  },
  {
   "cell_type": "code",
   "execution_count": 38,
   "metadata": {},
   "outputs": [],
   "source": [
    "model = kr.Sequential([\n",
    "    kr.layers.Flatten(\n",
    "        input_shape = (28, 28)\n",
    "    ),\n",
    "    kr.layers.Dense(128, activation=tf.nn.relu),\n",
    "    kr.layers.Dense(len(labels), activation=tf.nn.softmax)\n",
    "])"
   ]
  },
  {
   "cell_type": "markdown",
   "metadata": {},
   "source": [
    "### More model configuration\n",
    "We can configure the model a bit further by using the `compile()` method. We can set the optimizer, the loss function that we want to use, and what metrics we want to measure after the model trains.\n",
    "\n",
    "Optimizer - . In this case, we are using the Adam optimization algorithm.\n",
    "\n",
    "Loss function - "
   ]
  },
  {
   "cell_type": "code",
   "execution_count": 39,
   "metadata": {},
   "outputs": [],
   "source": [
    "model.compile(\n",
    "    optimizer = 'adam',\n",
    "    loss      = 'sparse_categorical_crossentropy',\n",
    "    metrics   = ['accuracy']\n",
    ")"
   ]
  },
  {
   "cell_type": "markdown",
   "metadata": {},
   "source": [
    "## Training the model\n",
    "Now that the model has been created, we can train the neural network with our training data and training labels."
   ]
  },
  {
   "cell_type": "code",
   "execution_count": 40,
   "metadata": {},
   "outputs": [
    {
     "name": "stdout",
     "output_type": "stream",
     "text": [
      "Epoch 1/5\n",
      "60000/60000 [==============================] - 2s 34us/sample - loss: 0.4975 - acc: 0.8242\n",
      "Epoch 2/5\n",
      "60000/60000 [==============================] - 2s 33us/sample - loss: 0.3760 - acc: 0.8654\n",
      "Epoch 3/5\n",
      "60000/60000 [==============================] - 2s 33us/sample - loss: 0.3359 - acc: 0.8783\n",
      "Epoch 4/5\n",
      "60000/60000 [==============================] - 2s 33us/sample - loss: 0.3120 - acc: 0.8856\n",
      "Epoch 5/5\n",
      "60000/60000 [==============================] - 2s 33us/sample - loss: 0.2962 - acc: 0.8912\n"
     ]
    },
    {
     "data": {
      "text/plain": [
       "<tensorflow.python.keras.callbacks.History at 0x10bc14c88>"
      ]
     },
     "execution_count": 40,
     "metadata": {},
     "output_type": "execute_result"
    }
   ],
   "source": [
    "model.fit(train_images, train_labels, epochs=5)"
   ]
  },
  {
   "cell_type": "markdown",
   "metadata": {},
   "source": [
    "## Predicting\n",
    "Now that the neural network has been trained, we can make some predictions about different types of clothing."
   ]
  },
  {
   "cell_type": "code",
   "execution_count": 70,
   "metadata": {},
   "outputs": [],
   "source": [
    "predictions = model.predict(test_images)"
   ]
  },
  {
   "cell_type": "code",
   "execution_count": 113,
   "metadata": {},
   "outputs": [],
   "source": [
    "def plot_image(i, prediction_vectors, true_labels, images):\n",
    "    prediction_vector, true_label, image = prediction_vectors[i], true_labels[i], images[i]\n",
    "    \n",
    "    plt.grid(False)\n",
    "    \n",
    "    plt.xticks([])\n",
    "    plt.yticks([])\n",
    "    \n",
    "    plt.imshow(image, cmap=plt.cm.binary)\n",
    "    \n",
    "    predicted_label = np.argmax(prediction_vector)\n",
    "    if predicted_label == true_label:\n",
    "        color = 'blue'\n",
    "    else:\n",
    "        color = 'red'\n",
    "        \n",
    "    plt.xlabel(\n",
    "        '{} {:2.0f}% ({})'.format(\n",
    "            labels[predicted_label],\n",
    "            100 * np.max(prediction_vector),\n",
    "            labels[true_label]\n",
    "        )\n",
    "    )"
   ]
  },
  {
   "cell_type": "code",
   "execution_count": 114,
   "metadata": {},
   "outputs": [],
   "source": [
    "def plot_value_array(i, prediction_vectors, true_labels):\n",
    "    prediction_vector, true_labels = prediction_vectors[i], true_labels[i]\n",
    "    \n",
    "    plt.grid(False)\n",
    "    \n",
    "    plot = plt.bar(\n",
    "        range(len(labels)),\n",
    "        prediction_vector,\n",
    "        color = '#fa34ab'\n",
    "    )\n",
    "    \n",
    "    plt.xlabel('Clothing type')\n",
    "    plt.ylabel('Certainty')\n",
    "    \n",
    "    plt.xticks(\n",
    "        range(len(labels)),\n",
    "        labels,\n",
    "        size='small',\n",
    "        rotation=90\n",
    "    )\n",
    "    \n",
    "    plt.ylim([0, 1])\n",
    "    predicted_label = np.argmax(prediction_vector)\n",
    "    \n",
    "    plot[predicted_label].set_color('red')\n",
    "    plot[true_labels].set_color('blue')"
   ]
  },
  {
   "cell_type": "code",
   "execution_count": 121,
   "metadata": {},
   "outputs": [
    {
     "data": {
      "image/png": "[encoded data removed]",
      "text/plain": [
       "<Figure size 576x288 with 2 Axes>"
      ]
     },
     "metadata": {
      "needs_background": "light"
     },
     "output_type": "display_data"
    },
    {
     "data": {
      "image/png": "[encoded data removed]",
      "text/plain": [
       "<Figure size 576x288 with 2 Axes>"
      ]
     },
     "metadata": {
      "needs_background": "light"
     },
     "output_type": "display_data"
    },
    {
     "data": {
      "image/png": "[encoded data removed]",
      "text/plain": [
       "<Figure size 576x288 with 2 Axes>"
      ]
     },
     "metadata": {
      "needs_background": "light"
     },
     "output_type": "display_data"
    },
    {
     "data": {
      "image/png": "[encoded data removed]",
      "text/plain": [
       "<Figure size 576x288 with 2 Axes>"
      ]
     },
     "metadata": {
      "needs_background": "light"
     },
     "output_type": "display_data"
    },
    {
     "data": {
      "image/png": "[encoded data removed]",
      "text/plain": [
       "<Figure size 576x288 with 2 Axes>"
      ]
     },
     "metadata": {
      "needs_background": "light"
     },
     "output_type": "display_data"
    }
   ],
   "source": [
    "x = 400\n",
    "y = 405\n",
    "counter = 1\n",
    "\n",
    "subplot = plt.subplot((y - x), 2, counter)\n",
    "subplot.figure(figsize = (8, 4))\n",
    "\n",
    "for i in range(x, y):\n",
    "    \n",
    "    plot_image(i, predictions, test_labels, test_images)\n",
    "    plt.subplot((y - x), 2, counter + 1)\n",
    "\n",
    "    plot_value_array(i, predictions, test_labels)\n",
    "\n",
    "    plt.show()\n",
    "    \n",
    "    counter += 1"
   ]
  },
  {
   "cell_type": "markdown",
   "metadata": {},
   "source": [
    "## Analysis\n",
    "We can analyze the accuracy of our model."
   ]
  },
  {
   "cell_type": "code",
   "execution_count": 21,
   "metadata": {},
   "outputs": [
    {
     "name": "stdout",
     "output_type": "stream",
     "text": [
      "Accuracy: <tensorflow.python.keras.metrics.MeanMetricWrapper object at 0xb50bc00f0>\n"
     ]
    }
   ],
   "source": [
    "print(\"Accuracy: \" + str(model.metrics[0]))"
   ]
  },
  {
   "cell_type": "code",
   "execution_count": 25,
   "metadata": {},
   "outputs": [
    {
     "name": "stdout",
     "output_type": "stream",
     "text": [
      "[[0.02219748 0.01056086 0.1391381  ... 0.01571777 0.02643525 0.00679331]\n",
      " [0.02219688 0.01056072 0.13913344 ... 0.0157161  0.02643532 0.00679287]\n",
      " [0.02219743 0.01056097 0.13913713 ... 0.01571676 0.02643504 0.00679299]\n",
      " ...\n",
      " [0.02219741 0.01056083 0.13913777 ... 0.01571727 0.02643517 0.00679306]\n",
      " [0.0221974  0.01056098 0.13913731 ... 0.01571711 0.02643493 0.00679309]\n",
      " [0.02219744 0.01056076 0.13913895 ... 0.01571791 0.02643517 0.00679327]]\n"
     ]
    }
   ],
   "source": [
    "predictions = model.predict(test_images)\n",
    "print(predictions)"
   ]
  },
  {
   "cell_type": "code",
   "execution_count": null,
   "metadata": {},
   "outputs": [],
   "source": []
  }
 ],
 "metadata": {
  "kernelspec": {
   "display_name": "Python 3",
   "language": "python",
   "name": "python3"
  },
  "language_info": {
   "codemirror_mode": {
    "name": "ipython",
    "version": 3
   },
   "file_extension": ".py",
   "mimetype": "text/x-python",
   "name": "python",
   "nbconvert_exporter": "python",
   "pygments_lexer": "ipython3",
   "version": "3.7.3"
  }
 },
 "nbformat": 4,
 "nbformat_minor": 2
}
