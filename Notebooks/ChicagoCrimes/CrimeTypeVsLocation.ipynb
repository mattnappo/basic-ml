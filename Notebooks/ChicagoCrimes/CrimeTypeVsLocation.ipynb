{
 "cells": [
  {
   "cell_type": "markdown",
   "metadata": {},
   "source": [
    "Chicago_Crimes_2012_to_2017"
   ]
  },
  {
   "cell_type": "code",
   "execution_count": 3,
   "metadata": {},
   "outputs": [],
   "source": [
    "import pandas as pd\n",
    "import numpy as np\n",
    "import matplotlib.pyplot as plt\n",
    "import seaborn as sns\n",
    "import scipy.stats as stats\n",
    "%matplotlib inline"
   ]
  },
  {
   "cell_type": "code",
   "execution_count": 5,
   "metadata": {},
   "outputs": [
    {
     "name": "stdout",
     "output_type": "stream",
     "text": [
      "                             Primary Type\n",
      "834950                              THEFT\n",
      "236814                    CRIMINAL DAMAGE\n",
      "369355                            ASSAULT\n",
      "682381                CRIM SEXUAL ASSAULT\n",
      "1307261                           BATTERY\n",
      "891317                      OTHER OFFENSE\n",
      "1152187                           BATTERY\n",
      "1165694                           BATTERY\n",
      "1165633                             THEFT\n",
      "554246                           BURGLARY\n",
      "622649                            ASSAULT\n",
      "258977                            ROBBERY\n",
      "1376299                             THEFT\n",
      "785481                 DECEPTIVE PRACTICE\n",
      "342286                            ASSAULT\n",
      "864688                    CRIMINAL DAMAGE\n",
      "591830                           BURGLARY\n",
      "1290601                     OTHER OFFENSE\n",
      "1363011                     OTHER OFFENSE\n",
      "1005651                DECEPTIVE PRACTICE\n",
      "717882                              THEFT\n",
      "1056144                         NARCOTICS\n",
      "760619                          NARCOTICS\n",
      "806255                              THEFT\n",
      "736139                    CRIMINAL DAMAGE\n",
      "621249             PUBLIC PEACE VIOLATION\n",
      "216010                              THEFT\n",
      "1547                                THEFT\n",
      "551411                    CRIMINAL DAMAGE\n",
      "191490                              THEFT\n",
      "...                                   ...\n",
      "103933                            BATTERY\n",
      "283439                      OTHER OFFENSE\n",
      "1248953                          BURGLARY\n",
      "366070                            BATTERY\n",
      "866399                              THEFT\n",
      "1140867                           BATTERY\n",
      "1145942                           BATTERY\n",
      "210844                              THEFT\n",
      "1405803                           BATTERY\n",
      "608859                MOTOR VEHICLE THEFT\n",
      "1068703                          BURGLARY\n",
      "409404                              THEFT\n",
      "1426008                             THEFT\n",
      "376598                          NARCOTICS\n",
      "932584                  WEAPONS VIOLATION\n",
      "1431057                 CRIMINAL TRESPASS\n",
      "814416                            ASSAULT\n",
      "221345                              THEFT\n",
      "169556                        SEX OFFENSE\n",
      "893687                           BURGLARY\n",
      "167988                          NARCOTICS\n",
      "177998                  CRIMINAL TRESPASS\n",
      "635028                MOTOR VEHICLE THEFT\n",
      "1040411                           ROBBERY\n",
      "253493                              THEFT\n",
      "1156051                           BATTERY\n",
      "859226                            BATTERY\n",
      "1113550  INTERFERENCE WITH PUBLIC OFFICER\n",
      "926313                          NARCOTICS\n",
      "115283                    CRIMINAL DAMAGE\n",
      "\n",
      "[1000 rows x 1 columns]\n"
     ]
    }
   ],
   "source": [
    "data = pd.read_csv('./data/data.ignore.csv')\n",
    "data.head()\n",
    "\n",
    "data['Arrest'] = data['Arrest'].replace({True: 1, False: 0})\n",
    "data.drop(\n",
    "    [\n",
    "        'Unnamed: 0',\n",
    "        'Location Description',\n",
    "        'Beat',\n",
    "        'District',\n",
    "        'ID',\n",
    "        'Case Number',\n",
    "        'Date',\n",
    "        'Block',\n",
    "        'IUCR',\n",
    "        'Description',\n",
    "        'Domestic',\n",
    "        'Community Area',\n",
    "        'FBI Code',\n",
    "        'Updated On',\n",
    "        'Latitude',\n",
    "        'Longitude',\n",
    "        'Location',        \n",
    "    ],\n",
    "    axis = 1,\n",
    "    inplace = True\n",
    ")\n",
    "\n",
    "print(pd.DataFrame(data['Primary Type']).sample(1000))"
   ]
  },
  {
   "cell_type": "code",
   "execution_count": null,
   "metadata": {},
   "outputs": [],
   "source": [
    "def get_crime_type(crime):\n",
    "    \n",
    "    \n",
    "data['Primary Type'] = data['Primary Type'].apply(get_crime_type, axis=1)"
   ]
  },
  {
   "cell_type": "code",
   "execution_count": null,
   "metadata": {},
   "outputs": [
    {
     "name": "stdout",
     "output_type": "stream",
     "text": [
      "             Primary Type  Arrest  Ward  X Coordinate  Y Coordinate  Year\n",
      "0                 BATTERY       1  24.0     1154907.0     1893681.0  2016\n",
      "1                 BATTERY       0  20.0     1183066.0     1864330.0  2016\n",
      "2  PUBLIC PEACE VIOLATION       0  37.0     1140789.0     1904819.0  2016\n",
      "3                 BATTERY       0  28.0     1143223.0     1901475.0  2016\n",
      "4                   THEFT       0  28.0     1139890.0     1901675.0  2016\n"
     ]
    }
   ],
   "source": [
    "x_indexs = data[data['X Coordinate'] == 0].index\n",
    "data.drop(x_indexs, inplace=True)\n",
    "\n",
    "y_indexs = data[data['Y Coordinate'] == 0].index\n",
    "data.drop(y_indexs, inplace=True)\n",
    "\n",
    "print(data.head())\n",
    "\n",
    "data[data == np.inf] = np.nan\n",
    "data.fillna(data.mean(), inplace=True)\n",
    "\n",
    "coord_names = ['X Coordinate', 'Y Coordinate']\n",
    "\n",
    "training_data = stats.zscore(data[coord_names])"
   ]
  },
  {
   "cell_type": "markdown",
   "metadata": {},
   "source": [
    "now its time to cluster the actual data"
   ]
  },
  {
   "cell_type": "code",
   "execution_count": 25,
   "metadata": {},
   "outputs": [
    {
     "name": "stdout",
     "output_type": "stream",
     "text": [
      "          X Coordinate  Y Coordinate\n",
      "clusters                            \n",
      "0         1.174033e+06  1.863835e+06\n",
      "1         1.135999e+06  1.918173e+06\n",
      "2         1.151139e+06  1.901206e+06\n",
      "3         1.174820e+06  1.834506e+06\n",
      "4         1.191011e+06  1.851594e+06\n",
      "5         1.162587e+06  1.931422e+06\n",
      "6         1.170842e+06  1.898475e+06\n",
      "7         1.154964e+06  1.863709e+06\n"
     ]
    }
   ],
   "source": [
    "from sklearn.cluster import KMeans\n",
    "model = KMeans(\n",
    "    n_clusters = 8,\n",
    "    random_state = 0\n",
    ")\n",
    "\n",
    "model.fit(training_data)\n",
    "\n",
    "# get the labels and assign to oiginal data labels\n",
    "labels = model.labels_\n",
    "data['clusters'] = labels\n",
    "\n",
    "coord_names.extend(['clusters'])\n",
    "\n",
    "coords = data[coord_names]\n",
    "\n",
    "print(coords.groupby(['clusters']).mean())"
   ]
  },
  {
   "cell_type": "code",
   "execution_count": null,
   "metadata": {},
   "outputs": [],
   "source": []
  },
  {
   "cell_type": "code",
   "execution_count": 28,
   "metadata": {},
   "outputs": [
    {
     "data": {
      "text/plain": [
       "Text(-21.450000000000003, 0.5, 'Y Coordinate')"
      ]
     },
     "execution_count": 28,
     "metadata": {},
     "output_type": "execute_result"
    },
    {
     "data": {
      "image/png": "[encoded data removed]",
      "text/plain": [
       "<Figure size 360x360 with 1 Axes>"
      ]
     },
     "metadata": {
      "needs_background": "light"
     },
     "output_type": "display_data"
    }
   ],
   "source": [
    "sns.lmplot(\n",
    "    'X Coordinate', 'Y Coordinate',\n",
    "    data = data,\n",
    "    fit_reg = False,\n",
    "    #     hue = 'clusters',\n",
    "    scatter_kws = {\n",
    "        'marker': 'D',\n",
    "        's': 10\n",
    "    }\n",
    ")\n",
    "\n",
    "plt.title('Coordinates of clusters')\n",
    "plt.xlabel('X Coordinate')\n",
    "plt.ylabel('Y Coordinate')"
   ]
  },
  {
   "cell_type": "code",
   "execution_count": null,
   "metadata": {},
   "outputs": [],
   "source": []
  }
 ],
 "metadata": {
  "kernelspec": {
   "display_name": "Python 3",
   "language": "python",
   "name": "python3"
  },
  "language_info": {
   "codemirror_mode": {
    "name": "ipython",
    "version": 3
   },
   "file_extension": ".py",
   "mimetype": "text/x-python",
   "name": "python",
   "nbconvert_exporter": "python",
   "pygments_lexer": "ipython3",
   "version": "3.7.3"
  }
 },
 "nbformat": 4,
 "nbformat_minor": 2
}
