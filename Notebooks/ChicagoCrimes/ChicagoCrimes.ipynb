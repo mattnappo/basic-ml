{
 "cells": [
  {
   "cell_type": "markdown",
   "metadata": {},
   "source": [
    "Chicago_Crimes_2012_to_2017"
   ]
  },
  {
   "cell_type": "code",
   "execution_count": 17,
   "metadata": {},
   "outputs": [],
   "source": [
    "import pandas as pd\n",
    "import numpy as np\n",
    "import matplotlib.pyplot as plt\n",
    "import seaborn as sns\n",
    "import scipy.stats as stats\n",
    "%matplotlib inline"
   ]
  },
  {
   "cell_type": "code",
   "execution_count": 22,
   "metadata": {},
   "outputs": [
    {
     "name": "stdout",
     "output_type": "stream",
     "text": [
      "['data.ignore.csv']\n",
      "   Unnamed: 0        ID Case Number                    Date  \\\n",
      "0           3  10508693    HZ250496  05/03/2016 11:40:00 PM   \n",
      "1          89  10508695    HZ250409  05/03/2016 09:40:00 PM   \n",
      "2         197  10508697    HZ250503  05/03/2016 11:31:00 PM   \n",
      "3         673  10508698    HZ250424  05/03/2016 10:10:00 PM   \n",
      "4         911  10508699    HZ250455  05/03/2016 10:00:00 PM   \n",
      "\n",
      "                 Block  IUCR            Primary Type              Description  \\\n",
      "0   013XX S SAWYER AVE  0486                 BATTERY  DOMESTIC BATTERY SIMPLE   \n",
      "1   061XX S DREXEL AVE  0486                 BATTERY  DOMESTIC BATTERY SIMPLE   \n",
      "2  053XX W CHICAGO AVE  0470  PUBLIC PEACE VIOLATION         RECKLESS CONDUCT   \n",
      "3    049XX W FULTON ST  0460                 BATTERY                   SIMPLE   \n",
      "4    003XX N LOTUS AVE  0820                   THEFT           $500 AND UNDER   \n",
      "\n",
      "  Location Description  Arrest  ...  Ward  Community Area  FBI Code  \\\n",
      "0            APARTMENT    True  ...  24.0            29.0       08B   \n",
      "1            RESIDENCE   False  ...  20.0            42.0       08B   \n",
      "2               STREET   False  ...  37.0            25.0        24   \n",
      "3             SIDEWALK   False  ...  28.0            25.0       08B   \n",
      "4            RESIDENCE   False  ...  28.0            25.0        06   \n",
      "\n",
      "   X Coordinate  Y Coordinate  Year              Updated On   Latitude  \\\n",
      "0     1154907.0     1893681.0  2016  05/10/2016 03:56:50 PM  41.864073   \n",
      "1     1183066.0     1864330.0  2016  05/10/2016 03:56:50 PM  41.782922   \n",
      "2     1140789.0     1904819.0  2016  05/10/2016 03:56:50 PM  41.894908   \n",
      "3     1143223.0     1901475.0  2016  05/10/2016 03:56:50 PM  41.885687   \n",
      "4     1139890.0     1901675.0  2016  05/10/2016 03:56:50 PM  41.886297   \n",
      "\n",
      "   Longitude                       Location  \n",
      "0 -87.706819  (41.864073157, -87.706818608)  \n",
      "1 -87.604363   (41.782921527, -87.60436317)  \n",
      "2 -87.758372  (41.894908283, -87.758371958)  \n",
      "3 -87.749516  (41.885686845, -87.749515983)  \n",
      "4 -87.761751  (41.886297242, -87.761750709)  \n",
      "\n",
      "[5 rows x 23 columns]\n"
     ]
    }
   ],
   "source": [
    "import os\n",
    "print(os.listdir('./data'))\n",
    "data = pd.read_csv('./data/data.ignore.csv')\n",
    "\n",
    "\n",
    "\n",
    "print(data.head())\n",
    "\n",
    "data['Arrest'] = data['Arrest'].replace({True: 1, False: 0})\n",
    "data.drop(\n",
    "    [\n",
    "        'Unnamed: 0',\n",
    "        'Location Description',\n",
    "        'Beat',\n",
    "        'District',\n",
    "        'ID',\n",
    "        'Case Number',\n",
    "        'Date',\n",
    "        'Block',\n",
    "        'IUCR',\n",
    "        'Primary Type',\n",
    "        'Description',\n",
    "        'Domestic',\n",
    "        'Community Area',\n",
    "        'FBI Code',\n",
    "        'Updated On',\n",
    "        'Latitude',\n",
    "        'Longitude',\n",
    "        'Location',\n",
    "    ],\n",
    "    axis = 1,\n",
    "    inplace = True\n",
    ")"
   ]
  },
  {
   "cell_type": "code",
   "execution_count": 19,
   "metadata": {},
   "outputs": [
    {
     "name": "stdout",
     "output_type": "stream",
     "text": [
      "Int64Index([ 78556,  84975, 102034, 116741, 119233, 119877, 174204, 188517,\n",
      "            190122, 198275, 207229, 207624, 213768, 214083, 236441, 238790,\n",
      "            251590, 256636, 314720, 322685, 358463, 367061, 437517, 439077,\n",
      "            439573, 446834, 447055, 463815, 498093, 510428, 514972, 533810,\n",
      "            553886, 673535, 678656, 712776, 714081, 721122, 725910, 738057,\n",
      "            744149, 748205, 754785, 755101, 757075, 764282, 765125, 767159,\n",
      "            768027, 782596, 783388, 803297, 803917, 814576, 818427, 822620,\n",
      "            823688, 824340, 826438, 831838, 832605, 834363, 838445, 861735,\n",
      "            868665, 874458, 885068, 892182, 911523, 912594, 918280, 921549,\n",
      "            929734, 931947, 941725, 962541, 978239],\n",
      "           dtype='int64')\n",
      "Int64Index([], dtype='int64')\n"
     ]
    }
   ],
   "source": [
    "x_indexs = data[data['X Coordinate'] == 0].index\n",
    "print(x_indexs)\n",
    "data.drop(x_indexs, inplace=True)\n",
    "\n",
    "y_indexs = data[data['Y Coordinate'] == 0].index\n",
    "print(y_indexs)\n",
    "data.drop(y_indexs, inplace=True)\n",
    "\n",
    "data[data == np.inf] = np.nan\n",
    "data.fillna(data.mean(), inplace=True)\n",
    "\n",
    "coord_names = ['X Coordinate', 'Y Coordinate']\n",
    "\n",
    "training_data = stats.zscore(data[coord_names])"
   ]
  },
  {
   "cell_type": "markdown",
   "metadata": {},
   "source": [
    "now its time to cluster the actual data"
   ]
  },
  {
   "cell_type": "code",
   "execution_count": 20,
   "metadata": {},
   "outputs": [
    {
     "name": "stdout",
     "output_type": "stream",
     "text": [
      "          X Coordinate  Y Coordinate\n",
      "clusters                            \n",
      "0         1.174033e+06  1.863835e+06\n",
      "1         1.135999e+06  1.918173e+06\n",
      "2         1.151139e+06  1.901206e+06\n",
      "3         1.174820e+06  1.834506e+06\n",
      "4         1.191011e+06  1.851594e+06\n",
      "5         1.162587e+06  1.931422e+06\n",
      "6         1.170842e+06  1.898475e+06\n",
      "7         1.154964e+06  1.863709e+06\n"
     ]
    }
   ],
   "source": [
    "from sklearn.cluster import KMeans\n",
    "model = KMeans(\n",
    "    n_clusters = 8,\n",
    "    random_state = 0\n",
    ")\n",
    "\n",
    "model.fit(training_data)\n",
    "\n",
    "# get the labels and assign to oiginal data labels\n",
    "labels = model.labels_\n",
    "data['clusters'] = labels\n",
    "\n",
    "coord_names.extend(['clusters'])\n",
    "\n",
    "coords = data[coord_names]\n",
    "\n",
    "print(coords.groupby(['clusters']).mean())"
   ]
  },
  {
   "cell_type": "code",
   "execution_count": null,
   "metadata": {},
   "outputs": [],
   "source": []
  },
  {
   "cell_type": "code",
   "execution_count": 21,
   "metadata": {},
   "outputs": [
    {
     "data": {
      "text/plain": [
       "Text(30.791519097222235, 0.5, 'Y Coordinate')"
      ]
     },
     "execution_count": 21,
     "metadata": {},
     "output_type": "execute_result"
    },
    {
     "data": {
      "image/png": "[encoded data removed]",
      "text/plain": [
       "<Figure size 407.375x360 with 1 Axes>"
      ]
     },
     "metadata": {
      "needs_background": "light"
     },
     "output_type": "display_data"
    }
   ],
   "source": [
    "sns.lmplot(\n",
    "    'X Coordinate', 'Y Coordinate',\n",
    "    data = data,\n",
    "    fit_reg = False,\n",
    "    hue = 'clusters',\n",
    "    scatter_kws = {\n",
    "        'marker': 'D',\n",
    "        's': 10\n",
    "    }\n",
    ")\n",
    "\n",
    "plt.title('Coordinates of clusters')\n",
    "plt.xlabel('X Coordinate')\n",
    "plt.ylabel('Y Coordinate')"
   ]
  },
  {
   "cell_type": "code",
   "execution_count": null,
   "metadata": {},
   "outputs": [],
   "source": []
  }
 ],
 "metadata": {
  "kernelspec": {
   "display_name": "Python 3",
   "language": "python",
   "name": "python3"
  },
  "language_info": {
   "codemirror_mode": {
    "name": "ipython",
    "version": 3
   },
   "file_extension": ".py",
   "mimetype": "text/x-python",
   "name": "python",
   "nbconvert_exporter": "python",
   "pygments_lexer": "ipython3",
   "version": "3.7.3"
  }
 },
 "nbformat": 4,
 "nbformat_minor": 2
}
