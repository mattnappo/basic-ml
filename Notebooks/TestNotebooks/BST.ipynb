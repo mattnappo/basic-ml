{
 "cells": [
  {
   "cell_type": "markdown",
   "metadata": {},
   "source": [
    "# This is Jupyter Notebook\n",
    "You can edit markdown here, as well as code!\n",
    "\n",
    "## Cells\n",
    "Code blocks are separated into what are called cells. There are some cells below."
   ]
  },
  {
   "cell_type": "code",
   "execution_count": 4,
   "metadata": {},
   "outputs": [
    {
     "name": "stdout",
     "output_type": "stream",
     "text": [
      "Hello, world!\n"
     ]
    }
   ],
   "source": [
    "# I am a block of code\n",
    "print(\"Hello, world!\")"
   ]
  },
  {
   "cell_type": "markdown",
   "metadata": {},
   "source": [
    "## I am bored, so I am going to write a binary search tree\n",
    "Here you can see the code for a simple binary search tree.<br>\n",
    "I plan to implement the following methods before the \"Python Crash Course\" ends:\n",
    " * insert\n",
    " * inorderPrint\n",
    " * search\n",
    " * delete\n",
    " "
   ]
  },
  {
   "cell_type": "markdown",
   "metadata": {},
   "source": [
    "### First, we must define the node struct"
   ]
  },
  {
   "cell_type": "code",
   "execution_count": 14,
   "metadata": {},
   "outputs": [],
   "source": [
    "class Node:\n",
    "    def __init__(self, value):\n",
    "        self.value = value\n",
    "        self.left = None\n",
    "        self.right = None\n",
    "        \n",
    "    def setRight(self, right):\n",
    "        self.right = right\n",
    "    \n",
    "    def setLeft(self, left):\n",
    "        self.left = left"
   ]
  },
  {
   "cell_type": "markdown",
   "metadata": {},
   "source": [
    "### Let's start off by implementing a method for insertion\n",
    "Insertion in a binary search tree has a best-case complexity of O(log(n))."
   ]
  },
  {
   "cell_type": "code",
   "execution_count": 26,
   "metadata": {},
   "outputs": [],
   "source": [
    "class BST:\n",
    "    def __init__(self):\n",
    "        self.head = None\n",
    "        \n",
    "    def insert_(self, newNode, root):\n",
    "        # Case 1: If tree is null\n",
    "        if self.head == None:\n",
    "            self.head = newNode\n",
    "            return True\n",
    "        \n",
    "        # Case 2: Value is > than current node's value\n",
    "        if newNode.value > root.value:\n",
    "            if root.right == None:\n",
    "                root.right = newNode\n",
    "                return True\n",
    "            else:\n",
    "                self.insert_(newNode, root.right)\n",
    "        \n",
    "        # Case 3: Value is < than current node's value\n",
    "        if newNode.value < root.value:\n",
    "            if root.left == None:\n",
    "                root.left = newNode\n",
    "                return True\n",
    "            else:\n",
    "                self.insert_(newNode, root.left)\n",
    "                \n",
    "        # Case 4: Value is = to current node's value\n",
    "        if newNode.value == root.value:\n",
    "            return False\n",
    "        \n",
    "        return True\n",
    "        \n",
    "    def insert(self, node):\n",
    "        return self.insert_(node, self.head)\n",
    "    \n",
    "    def insertValue(self, value):\n",
    "        return self.insert_(Node(value), self.head)"
   ]
  },
  {
   "cell_type": "markdown",
   "metadata": {},
   "source": [
    "### Seeing our tree\n",
    "Now, in order to view our tree graphically, we must write a function to print the values of the nodes.<br>\n",
    "There are many ways to print a tree. In this case, we will use \"in order\" printing, which prints the left child, the parent, then the right child, in that order.<br><br>\n",
    "Ex:<br>\n",
    "\n",
    "        5  \n",
    "      /  \\ \n",
    "     4    6\n",
    "   \n",
    "printed in order will yield<br>\n",
    "`4 5 6`.\n"
   ]
  },
  {
   "cell_type": "code",
   "execution_count": 27,
   "metadata": {},
   "outputs": [],
   "source": [
    "    def inOrderPrint_(self, node):\n",
    "        if node == None:\n",
    "            return False\n",
    "        \n",
    "        self.inOrderPrint_(node.left)\n",
    "        \n",
    "        print(node.value, end=\" \")\n",
    "        \n",
    "        self.inOrderPrint_(node.right)\n",
    "    \n",
    "    def inOrderPrint(self):\n",
    "        return self.inOrderPrint_(self.head)"
   ]
  },
  {
   "cell_type": "markdown",
   "metadata": {},
   "source": [
    "### Driver code\n",
    "The above code was simply the Binary Search Tree implementation. Here is the 'driver code' to test the above implementation."
   ]
  },
  {
   "cell_type": "code",
   "execution_count": 31,
   "metadata": {},
   "outputs": [
    {
     "ename": "AttributeError",
     "evalue": "'BST' object has no attribute 'inOrderPrint'",
     "output_type": "error",
     "traceback": [
      "\u001b[0;31m---------------------------------------------------------------------------\u001b[0m",
      "\u001b[0;31mAttributeError\u001b[0m                            Traceback (most recent call last)",
      "\u001b[0;32m<ipython-input-31-bd1c87a21b0a>\u001b[0m in \u001b[0;36m<module>\u001b[0;34m\u001b[0m\n\u001b[1;32m     12\u001b[0m \u001b[0mtree\u001b[0m\u001b[0;34m.\u001b[0m\u001b[0minsertValue\u001b[0m\u001b[0;34m(\u001b[0m\u001b[0;36m80\u001b[0m\u001b[0;34m)\u001b[0m\u001b[0;34m\u001b[0m\u001b[0;34m\u001b[0m\u001b[0m\n\u001b[1;32m     13\u001b[0m \u001b[0;34m\u001b[0m\u001b[0m\n\u001b[0;32m---> 14\u001b[0;31m \u001b[0mtree\u001b[0m\u001b[0;34m.\u001b[0m\u001b[0minOrderPrint\u001b[0m\u001b[0;34m(\u001b[0m\u001b[0;34m)\u001b[0m\u001b[0;34m\u001b[0m\u001b[0;34m\u001b[0m\u001b[0m\n\u001b[0m",
      "\u001b[0;31mAttributeError\u001b[0m: 'BST' object has no attribute 'inOrderPrint'"
     ]
    }
   ],
   "source": [
    "# -- DRIVER -- #\n",
    "\n",
    "tree = BST()\n",
    "\n",
    "head = Node(50)\n",
    "tree.insert(head)\n",
    "\n",
    "tree.insertValue(30)\n",
    "tree.insertValue(40)\n",
    "tree.insertValue(70)\n",
    "tree.insertValue(60)\n",
    "tree.insertValue(80)\n",
    "\n",
    "tree.inOrderPrint()"
   ]
  },
  {
   "cell_type": "code",
   "execution_count": null,
   "metadata": {},
   "outputs": [],
   "source": []
  }
 ],
 "metadata": {
  "kernelspec": {
   "display_name": "Python 3",
   "language": "python",
   "name": "python3"
  },
  "language_info": {
   "codemirror_mode": {
    "name": "ipython",
    "version": 3
   },
   "file_extension": ".py",
   "mimetype": "text/x-python",
   "name": "python",
   "nbconvert_exporter": "python",
   "pygments_lexer": "ipython3",
   "version": "3.7.3"
  }
 },
 "nbformat": 4,
 "nbformat_minor": 2
}
