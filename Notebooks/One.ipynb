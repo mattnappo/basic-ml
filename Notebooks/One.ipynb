{
 "cells": [
  {
   "cell_type": "markdown",
   "metadata": {},
   "source": [
    "# This is Jupyter Notebook\n",
    "You can edit markdown here, as well as code!\n",
    "\n",
    "## Cells\n",
    "Code blocks are separated into what are called cells. There are some cells below."
   ]
  },
  {
   "cell_type": "code",
   "execution_count": 4,
   "metadata": {},
   "outputs": [
    {
     "name": "stdout",
     "output_type": "stream",
     "text": [
      "Hello, world!\n"
     ]
    }
   ],
   "source": [
    "# I am a block of code\n",
    "print(\"Hello, world!\")"
   ]
  },
  {
   "cell_type": "markdown",
   "metadata": {},
   "source": [
    "## I am bored, so I am going to write a binary search tree\n",
    "Here you can see the code for a simple binary search tree.<br>\n",
    "I plan to implement the following methods before the \"Python Crash Course\" ends:\n",
    " * insert\n",
    " * inorderPrint\n",
    " * search\n",
    " * delete\n",
    " "
   ]
  },
  {
   "cell_type": "code",
   "execution_count": null,
   "metadata": {},
   "outputs": [],
   "source": [
    "class Node:\n",
    "    def __init__(self, value):\n",
    "        self.value = value\n",
    "        self.left = None\n",
    "        self.right = None\n",
    "        \n",
    "    def setRight(self, right)\n",
    "        self.right = right\n",
    "    \n",
    "    def setLeft(self, left):\n",
    "        self.left = left\n",
    "\n",
    "class BST:\n",
    "    def __init__(self):\n",
    "        self.head = None\n",
    "        \n",
    "    def insert_(self, newNode, root):\n",
    "        # Case 1: If tree is null\n",
    "        if self.head == None:\n",
    "            self.head = node\n",
    "            return True\n",
    "        \n",
    "        # Case 2: Value is > than current node's value\n",
    "        if newNode.value > root.value:\n",
    "            if root.right == None:\n",
    "                root.right = newNode\n",
    "                return True\n",
    "            else:\n",
    "                insert_(newNode, root.right)\n",
    "        \n",
    "        # Case 3: Value is < than current node's value\n",
    "        if newNode.value < root.value:\n",
    "            if root.left == None:\n",
    "                root.left = newNode\n",
    "                return True\n",
    "            else:\n",
    "                insert_(newNode, root.left)\n",
    "                \n",
    "        # Case 4: Value is = to current node's value\n",
    "        if newNode.value == root.value:\n",
    "            return False\n",
    "        \n",
    "    def insert(self, node):\n",
    "        return self.insert_(node, self.head)\n",
    "        \n",
    "# -- DRIVER -- #\n",
    "\n",
    "tree = BST()\n",
    "\n",
    "head = Node(5)\n",
    "assert(tree.insert(head))"
   ]
  }
 ],
 "metadata": {
  "kernelspec": {
   "display_name": "Python 3",
   "language": "python",
   "name": "python3"
  },
  "language_info": {
   "codemirror_mode": {
    "name": "ipython",
    "version": 3
   },
   "file_extension": ".py",
   "mimetype": "text/x-python",
   "name": "python",
   "nbconvert_exporter": "python",
   "pygments_lexer": "ipython3",
   "version": "3.7.3"
  }
 },
 "nbformat": 4,
 "nbformat_minor": 2
}
